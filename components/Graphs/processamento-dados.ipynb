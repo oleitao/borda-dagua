{
 "cells": [
  {
   "cell_type": "code",
   "execution_count": 2,
   "metadata": {},
   "outputs": [],
   "source": [
    "data = \"\"\"1991\t0.10023057\n",
    "1992\t0.2504265\n",
    "1993\t0.4501616\n",
    "1994\t0.71890575\n",
    "1995\t1.4943346\n",
    "1996\t2.9808776\n",
    "1997\t4.953002\n",
    "1998\t9.870446\n",
    "1999\t14.742338\n",
    "2000\t16.430468\n",
    "2001\t18.087137\n",
    "2002\t19.37\n",
    "2003\t29.67\n",
    "2004\t31.78\n",
    "2005\t34.99\n",
    "2006\t38.01\n",
    "2007\t42.09\n",
    "2008\t44.13\n",
    "2009\t48.27\n",
    "2010\t53.3\n",
    "2011\t55.249996\n",
    "2012\t60.339996\n",
    "2013\t62.0956\n",
    "2014\t64.59\n",
    "2015\t68.63286\n",
    "2016\t70.42357\n",
    "2017\t73.791214\n",
    "2018\t74.660965\n",
    "2019\t75.346375\n",
    "2020\t78.26166\n",
    "2021\t82.30903\n",
    "2022\t84.49691\"\"\"\n",
    "\n",
    "data = data.split('\\n')"
   ]
  },
  {
   "cell_type": "code",
   "execution_count": 6,
   "metadata": {},
   "outputs": [],
   "source": [
    "anos = [int(_.split()[0]) for _ in data]\n",
    "pessoas = [eval(_.split()[1]) for _ in data]"
   ]
  },
  {
   "cell_type": "code",
   "execution_count": 8,
   "metadata": {},
   "outputs": [
    {
     "name": "stdout",
     "output_type": "stream",
     "text": [
      "[1991, 1992, 1993, 1994, 1995, 1996, 1997, 1998, 1999, 2000, 2001, 2002, 2003, 2004, 2005, 2006, 2007, 2008, 2009, 2010, 2011, 2012, 2013, 2014, 2015, 2016, 2017, 2018, 2019, 2020, 2021, 2022]\n"
     ]
    }
   ],
   "source": [
    "print(anos)"
   ]
  },
  {
   "cell_type": "code",
   "execution_count": 9,
   "metadata": {},
   "outputs": [
    {
     "name": "stdout",
     "output_type": "stream",
     "text": [
      "[0.10023057, 0.2504265, 0.4501616, 0.71890575, 1.4943346, 2.9808776, 4.953002, 9.870446, 14.742338, 16.430468, 18.087137, 19.37, 29.67, 31.78, 34.99, 38.01, 42.09, 44.13, 48.27, 53.3, 55.249996, 60.339996, 62.0956, 64.59, 68.63286, 70.42357, 73.791214, 74.660965, 75.346375, 78.26166, 82.30903, 84.49691]\n"
     ]
    }
   ],
   "source": [
    "print(pessoas)"
   ]
  },
  {
   "cell_type": "code",
   "execution_count": null,
   "metadata": {},
   "outputs": [],
   "source": []
  }
 ],
 "metadata": {
  "kernelspec": {
   "display_name": "Python 3",
   "language": "python",
   "name": "python3"
  },
  "language_info": {
   "codemirror_mode": {
    "name": "ipython",
    "version": 3
   },
   "file_extension": ".py",
   "mimetype": "text/x-python",
   "name": "python",
   "nbconvert_exporter": "python",
   "pygments_lexer": "ipython3",
   "version": "3.11.4"
  }
 },
 "nbformat": 4,
 "nbformat_minor": 2
}
